{
 "cells": [
  {
   "cell_type": "code",
   "execution_count": 175,
   "id": "976d6da8",
   "metadata": {},
   "outputs": [],
   "source": [
    "import os\n",
    "import numpy as np\n",
    "import pandas as pd\n",
    "from matplotlib import pyplot as plt\n"
   ]
  },
  {
   "cell_type": "code",
   "execution_count": 176,
   "id": "be12db22",
   "metadata": {
    "scrolled": true
   },
   "outputs": [],
   "source": [
    "current_dir = os.getcwd()\n",
    "training_set = pd.read_csv(r\"./files/MNIST/kaggle csv format/mnist_train.csv\")\n",
    "testing_set = pd.read_csv(r\"./files/MNIST/kaggle csv format/mnist_test.csv\")"
   ]
  },
  {
   "cell_type": "code",
   "execution_count": 177,
   "id": "b6d55d4b",
   "metadata": {},
   "outputs": [
    {
     "name": "stdout",
     "output_type": "stream",
     "text": [
      "60000 785\n",
      "10000 785\n"
     ]
    }
   ],
   "source": [
    "#working through numpy\n",
    "training_set = np.array(training_set)\n",
    "m1, n1 = training_set.shape # m are pixels p/image, n are number of imgs (785, 60 000)\n",
    "np.random.shuffle(training_set)\n",
    "training_set.T\n",
    "training_set = training_set[0:3000]\n",
    "print(m1, n1) #debug\n",
    "\n",
    "x_train = training_set[1:n1]\n",
    "y_train = training_set[0]\n",
    "\n",
    "testing_set = np.array(testing_set)\n",
    "m2, n2 = testing_set.shape # testing set looks funny -> 10 000, 785\n",
    "np.random.shuffle(testing_set)\n",
    "testing_set = testing_set[0:2000] # yeah so dont transpose this otherwise the matrices look funny\n",
    "print(m2, n2) #debug\n",
    "\n",
    "x_test = testing_set[1:n2]\n",
    "y_test = testing_set[0]\n",
    "\n",
    "\n"
   ]
  },
  {
   "cell_type": "code",
   "execution_count": 178,
   "id": "212bbaea",
   "metadata": {},
   "outputs": [],
   "source": [
    "def init_params(input_size, hidden_size, output_size):\n",
    "    w1 = np.random.rand(hidden_size, input_size)\n",
    "    print(w1) # debug\n",
    "    b1 = np.zeros((hidden_size, 1))\n",
    "\n",
    "    w2 = np.random.rand(output_size, hidden_size)\n",
    "    b2 = np.zeros((output_size, 1))\n",
    "\n",
    "    param = {\"w1\": w1, \"b1\": b1, \"w2\": w2, \"b2\": b2}\n",
    "\n",
    "    return param"
   ]
  },
  {
   "cell_type": "code",
   "execution_count": 179,
   "id": "4b8b5e4f",
   "metadata": {},
   "outputs": [
    {
     "name": "stdout",
     "output_type": "stream",
     "text": [
      "[[0.32153361 0.74906815 0.2019563  ... 0.341128   0.60493938 0.52221156]\n",
      " [0.4615925  0.23932639 0.6234778  ... 0.56589329 0.43333052 0.32953597]\n",
      " [0.08958368 0.7806521  0.31323415 ... 0.78705523 0.12660285 0.27575459]\n",
      " ...\n",
      " [0.81525066 0.01749234 0.09636997 ... 0.3057534  0.9084565  0.80346029]\n",
      " [0.18516954 0.07404363 0.20921432 ... 0.89359333 0.58831318 0.71537253]\n",
      " [0.31748651 0.77669451 0.86243266 ... 0.60046539 0.23981936 0.77829607]]\n"
     ]
    }
   ],
   "source": [
    "param = init_params(785, 10, 1)"
   ]
  },
  {
   "cell_type": "code",
   "execution_count": 180,
   "id": "69326551",
   "metadata": {},
   "outputs": [],
   "source": [
    "def ReLU(x):\n",
    "    return x*(x>0)\n",
    "\n",
    "def dReLU(x):\n",
    "    return 1*(x>=0)"
   ]
  },
  {
   "cell_type": "code",
   "execution_count": 181,
   "id": "242427ed",
   "metadata": {},
   "outputs": [],
   "source": [
    "def forwardFeed(x, param):\n",
    "    # retrieve parameters\n",
    "    w1 = param[\"w1\"]\n",
    "    b1 = param[\"b1\"]\n",
    "    w2 = param[\"w2\"]\n",
    "    b2 = param[\"b2\"]\n",
    "\n",
    "    # activate hidden layer\n",
    "    z1 = np.dot(w1, x_train.T)+b1\n",
    "    a1 = ReLU(z1)\n",
    "\n",
    "    z2 = np.dot(w2, a1)+b2\n",
    "    a2 = ReLU(z2)\n",
    "\n",
    "    cache = {\"z1\": z1, \"a1\": a1, \"z2\": z2, \"a2\": a2}\n",
    "    return a2, cache\n",
    "    "
   ]
  },
  {
   "cell_type": "code",
   "execution_count": 182,
   "id": "21db06f8",
   "metadata": {},
   "outputs": [],
   "source": [
    "a2, cache = forwardFeed(x_train, param)"
   ]
  },
  {
   "cell_type": "code",
   "execution_count": null,
   "id": "2ea8dc8b",
   "metadata": {},
   "outputs": [],
   "source": []
  }
 ],
 "metadata": {
  "kernelspec": {
   "display_name": "ML",
   "language": "python",
   "name": "python3"
  },
  "language_info": {
   "codemirror_mode": {
    "name": "ipython",
    "version": 3
   },
   "file_extension": ".py",
   "mimetype": "text/x-python",
   "name": "python",
   "nbconvert_exporter": "python",
   "pygments_lexer": "ipython3",
   "version": "3.12.0"
  }
 },
 "nbformat": 4,
 "nbformat_minor": 5
}
