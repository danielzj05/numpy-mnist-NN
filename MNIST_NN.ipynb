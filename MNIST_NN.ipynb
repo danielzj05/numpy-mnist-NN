{
 "cells": [
  {
   "cell_type": "code",
   "execution_count": 127,
   "id": "976d6da8",
   "metadata": {},
   "outputs": [],
   "source": [
    "import os\n",
    "import numpy as np\n",
    "import pandas as pd\n",
    "from matplotlib import pyplot as plt\n"
   ]
  },
  {
   "cell_type": "code",
   "execution_count": 128,
   "id": "be12db22",
   "metadata": {
    "scrolled": true
   },
   "outputs": [],
   "source": [
    "current_dir = os.getcwd()\n",
    "training_set = pd.read_csv(r\"./files/MNIST/kaggle csv format/mnist_train.csv\")\n",
    "testing_set = pd.read_csv(r\"./files/MNIST/kaggle csv format/mnist_test.csv\")"
   ]
  },
  {
   "cell_type": "code",
   "execution_count": 129,
   "id": "b6d55d4b",
   "metadata": {},
   "outputs": [],
   "source": [
    "#working through numpy\n",
    "training_set = np.array(training_set)\n",
    "m1, n1 = training_set.shape # m are pixels p/image, n are number of imgs (785, 60 000)\n",
    "np.random.shuffle(training_set)\n",
    "training_set.T\n",
    "training_set = training_set[0:3000]\n",
    "\n",
    "x_train = training_set[1:n1]\n",
    "y_train = training_set[0]\n",
    "\n",
    "testing_set = np.array(testing_set)\n",
    "m2, n2 = testing_set.shape # testing set looks funny -> 10 000, 785\n",
    "np.random.shuffle(testing_set)\n",
    "testing_set = testing_set[0:2000] # yeah so dont transpose this otherwise the matrices look funny\n",
    "\n",
    "x_test = testing_set[1:n2]\n",
    "y_test = testing_set[0]\n",
    "\n",
    "\n"
   ]
  },
  {
   "cell_type": "code",
   "execution_count": 130,
   "id": "212bbaea",
   "metadata": {},
   "outputs": [],
   "source": [
    "def init_params(input_size, hidden_size, output_size):\n",
    "    w1 = np.random.rand(hidden_size, input_size)\n",
    "    print(w1)\n",
    "    b1 = np.zeros((hidden_size, 1))\n",
    "\n",
    "    w2 = np.random.rand(output_size, hidden_size)\n",
    "    b2 = np.zeros((output_size, 1))\n",
    "\n",
    "    param = {\"w1\": w1, \"b1\": b1, \"w2\": w2, \"b2\": b2}\n",
    "\n",
    "    return param"
   ]
  },
  {
   "cell_type": "code",
   "execution_count": 131,
   "id": "4b8b5e4f",
   "metadata": {},
   "outputs": [
    {
     "name": "stdout",
     "output_type": "stream",
     "text": [
      "[[0.75301139 0.03187772 0.86010888 ... 0.18756384 0.64255027 0.66188746]\n",
      " [0.63299432 0.37006367 0.52787009 ... 0.02357339 0.26245036 0.47064322]\n",
      " [0.54537174 0.85315638 0.98556339 ... 0.81096841 0.817171   0.22167809]\n",
      " ...\n",
      " [0.94484018 0.45635815 0.42446281 ... 0.89814705 0.92199038 0.84408232]\n",
      " [0.76553096 0.28425368 0.12513108 ... 0.31769312 0.29268851 0.09065855]\n",
      " [0.65012417 0.45072267 0.32614105 ... 0.26667753 0.30727506 0.50280765]]\n"
     ]
    }
   ],
   "source": [
    "param = init_params(784, 10, 1)"
   ]
  },
  {
   "cell_type": "code",
   "execution_count": 132,
   "id": "69326551",
   "metadata": {},
   "outputs": [],
   "source": [
    "def ReLU(x):\n",
    "    return x * (x>0)\n",
    "\n",
    "def dReLU(x):\n",
    "    return 1*(x>=0)"
   ]
  },
  {
   "cell_type": "code",
   "execution_count": 139,
   "id": "242427ed",
   "metadata": {},
   "outputs": [],
   "source": [
    "def forwardFeed(x, param):\n",
    "    # retrieve parameters\n",
    "    w1 = param[\"w1\"]\n",
    "    b1 = param[\"b1\"]\n",
    "    w2 = param[\"w2\"]\n",
    "    b2 = param[\"b2\"]\n",
    "\n",
    "    # activate hidden layer\n",
    "    z1 = np.dot(w1, x_train)+b1\n",
    "    a1 = ReLU(z1)\n",
    "    "
   ]
  },
  {
   "cell_type": "code",
   "execution_count": 141,
   "id": "21db06f8",
   "metadata": {},
   "outputs": [
    {
     "name": "stdout",
     "output_type": "stream",
     "text": [
      "[[1712.42650927    0.            0.         ...    0.\n",
      "     0.            0.        ]\n",
      " [1782.71616415    0.            0.         ...    0.\n",
      "     0.            0.        ]\n",
      " [1770.1046188     0.            0.         ...    0.\n",
      "     0.            0.        ]\n",
      " ...\n",
      " [1808.78557699    0.            0.         ...    0.\n",
      "     0.            0.        ]\n",
      " [1722.80701746    0.            0.         ...    0.\n",
      "     0.            0.        ]\n",
      " [1824.85337856    0.            0.         ...    0.\n",
      "     0.            0.        ]]\n"
     ]
    }
   ],
   "source": [
    "forwardFeed(x_train, param)"
   ]
  }
 ],
 "metadata": {
  "kernelspec": {
   "display_name": "ML",
   "language": "python",
   "name": "python3"
  },
  "language_info": {
   "codemirror_mode": {
    "name": "ipython",
    "version": 3
   },
   "file_extension": ".py",
   "mimetype": "text/x-python",
   "name": "python",
   "nbconvert_exporter": "python",
   "pygments_lexer": "ipython3",
   "version": "3.12.0"
  }
 },
 "nbformat": 4,
 "nbformat_minor": 5
}
